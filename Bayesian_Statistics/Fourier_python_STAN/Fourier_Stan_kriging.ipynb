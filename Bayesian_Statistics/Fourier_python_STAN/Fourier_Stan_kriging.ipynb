{
  "cells": [
    {
      "cell_type": "code",
      "execution_count": null,
      "metadata": {
        "id": "5z8NM8IH1utG"
      },
      "outputs": [],
      "source": [
        "from google.colab import drive\n",
        "drive.mount ('/gdrive')"
      ]
    },
    {
      "cell_type": "code",
      "execution_count": null,
      "metadata": {
        "id": "7FNiBF0X1xoJ"
      },
      "outputs": [],
      "source": [
        "%cd # gdrive path here"
      ]
    },
    {
      "cell_type": "code",
      "execution_count": null,
      "metadata": {
        "id": "wCr71ddIaMuA"
      },
      "outputs": [],
      "source": [
        "import pandas as pd\n",
        "import numpy as np\n",
        "import stan\n",
        "import matplotlib.pyplot as plt\n",
        "import seaborn as sns\n",
        "from tensorflow_probability.substrates import numpy as tfp\n",
        "tfd = tfp.distributions"
      ]
    },
    {
      "cell_type": "code",
      "execution_count": null,
      "metadata": {
        "id": "E6ew-kfReV8a"
      },
      "outputs": [],
      "source": [
        "from cmdstanpy import CmdStanModel, set_cmdstan_path, cmdstan_path\n",
        "import arviz as az\n",
        "import os"
      ]
    },
    {
      "cell_type": "code",
      "execution_count": null,
      "metadata": {
        "id": "f3G1V9iXed8H"
      },
      "outputs": [],
      "source": [
        "import cmdstanpy\n",
        "cmdstanpy.install_cmdstan()"
      ]
    },
    {
      "cell_type": "code",
      "execution_count": null,
      "metadata": {
        "id": "fqpUJigvfSFT"
      },
      "outputs": [],
      "source": [
        "cmdstan_path()"
      ]
    },
    {
      "cell_type": "code",
      "execution_count": null,
      "metadata": {
        "id": "GcXN90Juc9P-"
      },
      "outputs": [],
      "source": [
        "nugget = pd.read_csv('nugget_to_python.csv', sep = \";\")\n",
        "data_vec = pd.read_csv('dat_complete_log_to_python.csv', sep = ';') #log PM10 values\n",
        "ind_miss = pd.read_csv('ind_miss_to_python.csv', sep = ';')\n",
        "ind_pres = pd.read_csv('ind_pres_to_python.csv', sep = ';')\n",
        "dati_covariates = pd.read_csv('covariates.csv', sep = \";\")\n",
        "grid = pd.read_csv('grid_UTMcoords.csv', sep = ';')\n",
        "coord = pd.read_csv('UTMcoords.csv', sep = ';')"
      ]
    },
    {
      "cell_type": "code",
      "execution_count": null,
      "metadata": {
        "id": "y80EnNJnekiZ"
      },
      "outputs": [],
      "source": [
        "nugget_mat = np.matrix(nugget, dtype=float)\n",
        "grid_mat = np.matrix(grid, dtype=float)\n",
        "coord_mat = np.matrix(coord, dtype=float)\n",
        "\n",
        "data_vettore = np.array(data_vec, dtype=float)\n",
        "ind_miss = np.array(ind_miss)\n",
        "ind_pres = np.array(ind_pres)\n",
        "\n",
        "matrix_dati_covariates=np.matrix(dati_covariates)\n",
        "quota= np.array (matrix_dati_covariates[0,:], dtype=int)\n",
        "quota_norm = ((quota-quota.mean())/quota.std())\n",
        "\n",
        "area_dummies = pd.get_dummies(dati_covariates.iloc[1, :])\n",
        "\n",
        "zona_dummies = pd.get_dummies(dati_covariates.iloc[2, :])\n",
        "all_cov = np.matrix(pd.concat([area_dummies.Urbano, area_dummies.Suburbano, \n",
        "                               zona_dummies.Industriale, zona_dummies.Traffico],axis=1),dtype=bool)\n",
        "all_cov = np.concatenate((np.transpose(quota_norm),all_cov),axis=1)"
      ]
    },
    {
      "cell_type": "markdown",
      "source": [
        "### STAN model"
      ],
      "metadata": {
        "id": "e3Pq_8O0hbB3"
      }
    },
    {
      "cell_type": "code",
      "execution_count": null,
      "metadata": {
        "id": "nywlA2YLmYnh"
      },
      "outputs": [],
      "source": [
        "fourier_model = \"\"\"\n",
        "\n",
        "functions {\n",
        "\n",
        "  vector gp_pred_rng(vector [] x_pred, vector y_obs, vector[] x_obs, real alpha,\n",
        "                      real rho, real delta, real mu){\n",
        "\n",
        "      int n_obs = size(x_obs);\n",
        "      int n_pred = size(x_pred);\n",
        "      vector[n_pred] y_return;\n",
        "\n",
        "      {\n",
        "          matrix[n_obs, n_obs] L;\n",
        "          vector[n_obs] K_div_y;\n",
        "          matrix[n_obs,n_pred] k_x;\n",
        "          matrix[n_obs,n_pred] y_pred;\n",
        "          vector[n_pred] y_mu;\n",
        "          matrix[n_pred,n_pred] cov_y;\n",
        "          matrix[n_pred,n_pred] diag_delta;\n",
        "          matrix[n_obs, n_obs] K;\n",
        "\n",
        "          K = gp_exponential_cov(x_obs, alpha, rho);\n",
        "          L = cholesky_decompose(K);\n",
        "          K_div_y = mdivide_left_tri_low(L, y_obs);\n",
        "          K_div_y = mdivide_right_tri_low(K_div_y',L)';\n",
        "          k_x = gp_exponential_cov(x_obs, x_pred, alpha, rho);\n",
        "\n",
        "          y_mu = (k_x' * K_div_y) + mu;\n",
        "          y_pred = mdivide_left_tri_low(L, k_x);\n",
        "          cov_y = gp_exponential_cov(x_pred, alpha, rho) - y_pred' * y_pred;\n",
        "          diag_delta = diag_matrix( rep_vector(delta,n_pred));\n",
        "\n",
        "          y_return = multi_normal_rng(y_mu, cov_y + diag_delta);\n",
        "      }\n",
        "\n",
        "      return y_return;\n",
        "\n",
        "    }\n",
        "}\n",
        "\n",
        "data {\n",
        "  int<lower=0> num_giorni;  //number of obs\n",
        "  int<lower=0> num_stazioni;  //number of stations\n",
        "  int<lower=0> d;  //length of vector of basis\n",
        "  vector[d] vec_k;  //vector of basis\n",
        "  vector[num_giorni] t;  //time instant\n",
        "  matrix[num_stazioni,num_stazioni] dist_w;  //distance matrix\n",
        "  int Ncomp; // Number of non-missing values\n",
        "  int  Nmiss; // Number of missing values\n",
        "  int ind_pres[Ncomp, 2];\n",
        "  int ind_miss[Nmiss, 2];\n",
        "  vector[Ncomp] dat_complete;\n",
        "  matrix[num_stazioni, 5] covariates;\n",
        "  real delta;\n",
        "  int n_new;\n",
        "  vector[2] grid[n_new];\n",
        "  vector[2] coord[num_stazioni];\n",
        "}\n",
        "\n",
        "\n",
        "parameters {\n",
        "  real<lower=0> sigma;\n",
        "  vector[d] alpha;\n",
        "  vector[d] beta;\n",
        "  real<lower=0> a;\n",
        "  real<lower=0> phi;\n",
        "  vector[num_stazioni] w;\n",
        "  vector [Nmiss] dat_miss;\n",
        "  real beta_0;\n",
        "  vector[5] beta_cov;\n",
        "}\n",
        "\n",
        "\n",
        "transformed parameters {\n",
        "  real omega = 2*pi()/365;\n",
        "  vector[num_giorni] fourier;\n",
        "  matrix[num_giorni,num_stazioni] mu;\n",
        "  matrix[num_stazioni,num_stazioni] cov_w;\n",
        "  fourier = rep_vector(0,num_giorni);\n",
        "  matrix [num_giorni,num_stazioni] y;\n",
        "\n",
        "\n",
        "  for (i in 1:Ncomp) {\n",
        "    y[ind_pres[i,1], ind_pres[i,2]] =  dat_complete[i];\n",
        "  }\n",
        "  for(i in 1:Nmiss) {\n",
        "      y[ind_miss[i,1],ind_miss[i,2]] = dat_miss[i];\n",
        "    }\n",
        "\n",
        "\n",
        "  for (i in 1:d){\n",
        "    fourier += alpha[i]*sin(vec_k[i]*omega*t) + beta[i]*cos(vec_k[i]*omega*t);\n",
        "  }\n",
        "  \n",
        "\n",
        "  cov_w = a*exp(-phi*dist_w);\n",
        "  \n",
        "\n",
        "  for (j in 1:num_stazioni){\n",
        "      mu[:,j] = beta_0 + covariates[j,:]*beta_cov + fourier + w[j];\n",
        "    }\n",
        "}\n",
        "\n",
        "\n",
        "model {\n",
        "  sigma ~ inv_gamma(3,2);\n",
        "\n",
        "  alpha ~ normal(rep_vector(0,d),1);\n",
        "  beta ~ normal(rep_vector(0,d),1);\n",
        "\n",
        "  a ~ inv_gamma(3,2);\n",
        "  phi ~ beta(7,70);\n",
        "\n",
        "  beta_0 ~ normal(0, 2);\n",
        "  beta_cov ~ normal(rep_vector(0,5), 2);\n",
        "\n",
        "  w ~ multi_normal(rep_vector(0,num_stazioni),cov_w);\n",
        "  \n",
        "  for (j in 1:num_stazioni)\n",
        "    y[:,j] ~ normal(mu[:,j], sqrt(sigma));\n",
        "}\n",
        "\n",
        "\n",
        "generated quantities {\n",
        "  vector[num_giorni*num_stazioni] log_lik;\n",
        "  {\n",
        "    matrix [num_giorni, num_stazioni] temp; \n",
        "    for (i in 1:365) {\n",
        "      for (j in 1:num_stazioni) {\n",
        "      temp[i,j]= normal_lpdf(y[i,j] | mu[i,j], sqrt(sigma));\n",
        "      }\n",
        "    }\n",
        "    log_lik = to_vector(temp);\n",
        "  }\n",
        "\n",
        "  vector[n_new] w_pred;\n",
        "  w_pred = gp_pred_rng(grid, w, coord, sqrt(a), 1/phi, delta, 0);\n",
        "  \n",
        "}\n",
        "\n",
        "\"\"\"\n",
        "\n",
        "stan_file = \"./fourier.stan\"\n",
        "\n",
        "with open(stan_file, \"w\") as f:\n",
        "    print(fourier_model, file=f)\n",
        "\n",
        "fourier = CmdStanModel(stan_file=stan_file)"
      ]
    },
    {
      "cell_type": "code",
      "execution_count": null,
      "metadata": {
        "id": "H87Dxxe4sUgN"
      },
      "outputs": [],
      "source": [
        "reg_data = {\n",
        "    \"num_giorni\": 365,\n",
        "    \"num_stazioni\": 62,\n",
        "    \"d\": 3,\n",
        "    \"vec_k\": [1,2,4],\n",
        "    \"t\": np.arange(1,366),\n",
        "    \"dist_w\": nugget_mat,\n",
        "    \"Ncomp\": np.shape(ind_pres)[0],\n",
        "    \"Nmiss\": np.shape(ind_miss)[0],\n",
        "    \"ind_pres\": ind_pres,\n",
        "    \"ind_miss\": ind_miss,\n",
        "    \"dat_complete\": data_vettore[:,0],\n",
        "    \"covariates\": all_cov,\n",
        "    \"delta\": 1e-9,\n",
        "    \"n_new\": np.shape(grid_mat)[0],\n",
        "    \"grid\": grid_mat,\n",
        "    \"coord\": coord_mat\n",
        "}\n",
        "\n",
        "fit = fourier.sample(data=reg_data, chains=4, parallel_chains=4, \n",
        "                iter_warmup=1000, iter_sampling=1000)\n",
        "fourier_az = az.from_cmdstanpy(fit)"
      ]
    },
    {
      "cell_type": "code",
      "execution_count": null,
      "metadata": {
        "id": "CRCbAM_n2atm"
      },
      "outputs": [],
      "source": [
        "az.plot_trace(fourier_az, var_names=['beta_cov','beta_0','sigma','a','phi','w','alpha', 'beta','w_pred'], combined=True)"
      ]
    },
    {
      "cell_type": "code",
      "execution_count": null,
      "metadata": {
        "id": "n2pIjvFhLBCu"
      },
      "outputs": [],
      "source": [
        "np.sum(fourier_az.sample_stats.diverging)"
      ]
    },
    {
      "cell_type": "markdown",
      "source": [
        "### Kriging prediction"
      ],
      "metadata": {
        "id": "xXbIkbBlhmz-"
      }
    },
    {
      "cell_type": "code",
      "source": [
        "nugget_new = fit.stan_variable(var= \"w_pred\")"
      ],
      "metadata": {
        "id": "tiyuhoTdh_1R"
      },
      "execution_count": null,
      "outputs": []
    },
    {
      "cell_type": "code",
      "source": [
        "mean_nugget_new = np.zeros(185)\n",
        "for i in range(185):\n",
        "  mean_nugget_new[i] = np.mean(nugget_new[:,i])"
      ],
      "metadata": {
        "id": "F6cM6qCciUGY"
      },
      "execution_count": null,
      "outputs": []
    },
    {
      "cell_type": "code",
      "source": [
        "coords_new = pd.read_csv('grid_lat_long_to_python.csv', sep = ';')\n",
        "coords_new = np.matrix(coords_new, dtype=float)"
      ],
      "metadata": {
        "id": "Z9kUvVXfnlcw"
      },
      "execution_count": null,
      "outputs": []
    },
    {
      "cell_type": "code",
      "source": [
        "plt.scatter(np.array(coords_new[:,0]),np.array(coords_new[:,1]),c=mean_nugget_new)"
      ],
      "metadata": {
        "id": "uYH8zawQjA8C"
      },
      "execution_count": null,
      "outputs": []
    },
    {
      "cell_type": "code",
      "source": [
        "pd.DataFrame(mean_nugget_new)"
      ],
      "metadata": {
        "id": "dfX7i85koU3L"
      },
      "execution_count": null,
      "outputs": []
    }
  ],
  "metadata": {
    "colab": {
      "provenance": []
    },
    "kernelspec": {
      "display_name": "Python 3",
      "name": "python3"
    },
    "language_info": {
      "name": "python"
    }
  },
  "nbformat": 4,
  "nbformat_minor": 0
}