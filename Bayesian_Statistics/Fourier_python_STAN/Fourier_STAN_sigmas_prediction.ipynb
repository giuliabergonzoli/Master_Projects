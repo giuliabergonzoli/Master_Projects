{
  "cells": [
    {
      "cell_type": "code",
      "execution_count": null,
      "metadata": {
        "id": "5z8NM8IH1utG"
      },
      "outputs": [],
      "source": [
        "from google.colab import drive\n",
        "drive.mount ('/gdrive')"
      ]
    },
    {
      "cell_type": "code",
      "execution_count": null,
      "metadata": {
        "id": "7FNiBF0X1xoJ"
      },
      "outputs": [],
      "source": [
        "%cd #gdrive path here"
      ]
    },
    {
      "cell_type": "code",
      "execution_count": null,
      "metadata": {
        "id": "wCr71ddIaMuA"
      },
      "outputs": [],
      "source": [
        "import pandas as pd\n",
        "import numpy as np\n",
        "import stan\n",
        "import matplotlib.pyplot as plt\n",
        "import seaborn as sns\n",
        "from tensorflow_probability.substrates import numpy as tfp\n",
        "tfd = tfp.distributions"
      ]
    },
    {
      "cell_type": "code",
      "execution_count": null,
      "metadata": {
        "id": "E6ew-kfReV8a"
      },
      "outputs": [],
      "source": [
        "from cmdstanpy import CmdStanModel, set_cmdstan_path, cmdstan_path\n",
        "import arviz as az\n",
        "import os"
      ]
    },
    {
      "cell_type": "code",
      "execution_count": null,
      "metadata": {
        "id": "f3G1V9iXed8H"
      },
      "outputs": [],
      "source": [
        "import cmdstanpy\n",
        "cmdstanpy.install_cmdstan()"
      ]
    },
    {
      "cell_type": "code",
      "execution_count": null,
      "metadata": {
        "id": "fqpUJigvfSFT"
      },
      "outputs": [],
      "source": [
        "cmdstan_path()"
      ]
    },
    {
      "cell_type": "code",
      "source": [
        "month=np.repeat(np.array([1,2,3,4,5,6,7,8,9,10,11,12]), [31,28,31,30,31,30,31,31,30,31,30,31])"
      ],
      "metadata": {
        "id": "zaW3uDooBWZ_"
      },
      "execution_count": null,
      "outputs": []
    },
    {
      "cell_type": "code",
      "execution_count": null,
      "metadata": {
        "id": "GcXN90Juc9P-"
      },
      "outputs": [],
      "source": [
        "nugget = pd.read_csv('nugget_to_python.csv', sep = \";\")\n",
        "data_vec = pd.read_csv('dat_complete_log_to_python_355.csv', sep = ';') #log PM10 values\n",
        "ind_miss = pd.read_csv('ind_miss_to_python_355.csv', sep = ';')\n",
        "ind_pres = pd.read_csv('ind_pres_to_python_355.csv', sep = ';')\n",
        "dati_covariates = pd.read_csv('covariates.csv', sep = \";\")"
      ]
    },
    {
      "cell_type": "code",
      "execution_count": null,
      "metadata": {
        "id": "y80EnNJnekiZ"
      },
      "outputs": [],
      "source": [
        "nugget_mat = np.matrix(nugget, dtype=float)\n",
        "\n",
        "data_vettore = np.array(data_vec, dtype=float)\n",
        "ind_miss = np.array(ind_miss)\n",
        "ind_pres = np.array(ind_pres)\n",
        "\n",
        "matrix_dati_covariates=np.matrix(dati_covariates)\n",
        "quota= np.array (matrix_dati_covariates[0,:], dtype=int)\n",
        "quota_norm = ((quota-quota.mean())/quota.std())\n",
        "\n",
        "area_dummies = pd.get_dummies(dati_covariates.iloc[1, :])\n",
        "\n",
        "zona_dummies = pd.get_dummies(dati_covariates.iloc[2, :])\n",
        "all_cov = np.matrix(pd.concat([zona_dummies.Traffico],axis=1),dtype=bool)\n",
        "all_cov = np.concatenate((np.transpose(quota_norm),all_cov),axis=1)"
      ]
    },
    {
      "cell_type": "markdown",
      "source": [
        "### STAN model"
      ],
      "metadata": {
        "id": "YJn2LlfSgicT"
      }
    },
    {
      "cell_type": "code",
      "execution_count": null,
      "metadata": {
        "id": "nywlA2YLmYnh"
      },
      "outputs": [],
      "source": [
        "fourier_model = \"\"\"\n",
        "\n",
        "data {\n",
        "  int<lower=0> num_giorni;  //number of obs\n",
        "  int<lower=0> num_test;  //num_giorni-10\n",
        "  int<lower=0> num_stazioni;  //number of stations\n",
        "  int<lower=0> d;  //length of vector of basis\n",
        "  vector[d] vec_k;  //vector of basis\n",
        "  vector[num_giorni] t;  //time instant\n",
        "  matrix[num_stazioni,num_stazioni] dist_w;  //distance matrix\n",
        "  int Ncomp; // Number of non-missing values  //Ncomp senza ultime 10\n",
        "  int  Nmiss; // Number of missing values  //Nmiss senza ultime 10\n",
        "  int ind_pres[Ncomp, 2];  //idem\n",
        "  int ind_miss[Nmiss, 2];  //idem\n",
        "  vector[Ncomp] dat_complete;  //idem\n",
        "  matrix[num_stazioni, 2] covariates;\n",
        "  array[num_giorni] int mese;\n",
        "}\n",
        "\n",
        "\n",
        "parameters {\n",
        "  vector<lower=0>[12] sigma;\n",
        "  vector[d] alpha;\n",
        "  vector[d] beta;\n",
        "  real<lower=0> a;\n",
        "  real<lower=0> phi;\n",
        "  vector[num_stazioni] w;\n",
        "  vector [Nmiss] dat_miss;\n",
        "  real beta_0;\n",
        "  vector[2] beta_cov;\n",
        "}\n",
        "\n",
        "\n",
        "transformed parameters {\n",
        "  real omega = 2*pi()/365;\n",
        "  vector[num_giorni] fourier;\n",
        "  matrix[num_giorni,num_stazioni] mu;\n",
        "  matrix[num_stazioni,num_stazioni] cov_w;\n",
        "  fourier = rep_vector(0,num_giorni);\n",
        "  matrix [num_test,num_stazioni] y;\n",
        "\n",
        "\n",
        "  for (i in 1:Ncomp) {\n",
        "    y[ind_pres[i,1], ind_pres[i,2]] =  dat_complete[i];\n",
        "  }\n",
        "  for(i in 1:Nmiss) {\n",
        "      y[ind_miss[i,1],ind_miss[i,2]] = dat_miss[i];\n",
        "    }\n",
        "\n",
        "\n",
        "  for (i in 1:d){\n",
        "    fourier += alpha[i]*sin(vec_k[i]*omega*t) + beta[i]*cos(vec_k[i]*omega*t);\n",
        "  }\n",
        "\n",
        "\n",
        "  cov_w = a*exp(-phi*dist_w);\n",
        "  \n",
        "  for(j in 1:num_stazioni){\n",
        "    mu[:,j] = beta_0 + covariates[j,:]*beta_cov + fourier + w[j];\n",
        "  }\n",
        "}\n",
        "\n",
        "\n",
        "model {\n",
        "  sigma ~ inv_gamma(3,2);\n",
        "\n",
        "  alpha ~ normal(rep_vector(0,d),1);\n",
        "  beta ~ normal(rep_vector(0,d),1);\n",
        "\n",
        "  a ~ inv_gamma(3,2);\n",
        "  phi ~ beta(7,70);\n",
        "\n",
        "  beta_0 ~ normal(0, 2);\n",
        "  beta_cov ~ normal(rep_vector(0,2), 2);\n",
        "\n",
        "  w ~ multi_normal(rep_vector(0,num_stazioni),cov_w);\n",
        "  \n",
        "  for (i in 1:num_test)\n",
        "      y[i,:] ~ normal(mu[i,:], sqrt(sigma[mese[i]]));\n",
        "}\n",
        "\n",
        "\n",
        "generated quantities {\n",
        "  vector[num_test*num_stazioni] log_lik;\n",
        "  {\n",
        "    matrix [num_test, num_stazioni] temp; \n",
        "    for (i in 1:num_test) {\n",
        "      for (j in 1:num_stazioni) {\n",
        "      temp[i,j]= normal_lpdf(y[i,j] | mu[i,j], sqrt(sigma[mese[i]]));\n",
        "      }\n",
        "    }\n",
        "    log_lik = to_vector(temp);\n",
        "  }\n",
        "  \n",
        "  matrix [num_giorni,num_stazioni] y_pred;\n",
        "  for (i in 1:num_giorni){\n",
        "    for (j in 1:num_stazioni){\n",
        "      y_pred[i,j]= normal_rng(mu[i,j], sqrt(sigma[mese[i]]));\n",
        "    }\n",
        "  }\n",
        "}\n",
        "\n",
        "\"\"\"\n",
        "\n",
        "stan_file = \"./fourier.stan\"\n",
        "\n",
        "with open(stan_file, \"w\") as f:\n",
        "    print(fourier_model, file=f)\n",
        "\n",
        "fourier = CmdStanModel(stan_file=stan_file)"
      ]
    },
    {
      "cell_type": "code",
      "execution_count": null,
      "metadata": {
        "id": "H87Dxxe4sUgN"
      },
      "outputs": [],
      "source": [
        "reg_data = {\n",
        "    \"num_giorni\": 365,\n",
        "    \"num_test\": 355,\n",
        "    \"num_stazioni\": 62,\n",
        "    \"d\": 3,\n",
        "    \"vec_k\": [1,2,4],\n",
        "    \"t\": np.arange(1,366),\n",
        "    \"dist_w\": nugget_mat,\n",
        "    \"Ncomp\": np.shape(ind_pres)[0],\n",
        "    \"Nmiss\": np.shape(ind_miss)[0],\n",
        "    \"ind_pres\": ind_pres,\n",
        "    \"ind_miss\": ind_miss,\n",
        "    \"dat_complete\": data_vettore[:,0],\n",
        "    \"covariates\": all_cov,\n",
        "    \"mese\": month\n",
        "}\n",
        "\n",
        "fit = fourier.sample(data=reg_data, chains=4, parallel_chains=4, \n",
        "                iter_warmup=1000, iter_sampling=1000)\n",
        "fourier_az = az.from_cmdstanpy(fit)"
      ]
    },
    {
      "cell_type": "markdown",
      "source": [
        "### Variables plot"
      ],
      "metadata": {
        "id": "qQHVuCryg_LZ"
      }
    },
    {
      "cell_type": "code",
      "execution_count": null,
      "metadata": {
        "id": "CRCbAM_n2atm"
      },
      "outputs": [],
      "source": [
        "az.plot_trace(fourier_az, var_names=['beta_cov','beta_0','sigma','a','phi','w','alpha', 'beta'])"
      ]
    },
    {
      "cell_type": "code",
      "source": [
        "az.plot_trace(fourier_az, var_names=['beta_cov','beta_0'])"
      ],
      "metadata": {
        "id": "tkpVGL10eWPp"
      },
      "execution_count": null,
      "outputs": []
    },
    {
      "cell_type": "code",
      "source": [
        "az.plot_trace(fourier_az, var_names=['sigma'])"
      ],
      "metadata": {
        "id": "kmGvDAa0eZwH"
      },
      "execution_count": null,
      "outputs": []
    },
    {
      "cell_type": "code",
      "source": [
        "az.plot_trace(fourier_az, var_names=['a','phi','w'])"
      ],
      "metadata": {
        "id": "DLjYmiFMec4C"
      },
      "execution_count": null,
      "outputs": []
    },
    {
      "cell_type": "code",
      "source": [
        "az.plot_trace(fourier_az, var_names=['alpha', 'beta'])"
      ],
      "metadata": {
        "id": "LqOfgxZIegAN"
      },
      "execution_count": null,
      "outputs": []
    },
    {
      "cell_type": "code",
      "source": [
        "az.plot_trace(fourier_az, var_names=['beta_cov','beta_0','sigma','a','phi','w','alpha', 'beta'],combined=True)"
      ],
      "metadata": {
        "id": "pgiaGuvcf13b"
      },
      "execution_count": null,
      "outputs": []
    },
    {
      "cell_type": "code",
      "source": [
        "az.plot_trace(fourier_az, var_names=['beta_cov','beta_0'],combined=True)"
      ],
      "metadata": {
        "id": "2Lbyz3Jcf6qP"
      },
      "execution_count": null,
      "outputs": []
    },
    {
      "cell_type": "code",
      "source": [
        "az.plot_trace(fourier_az, var_names=['sigma'],combined=True)"
      ],
      "metadata": {
        "id": "SF3NnmA6f8wr"
      },
      "execution_count": null,
      "outputs": []
    },
    {
      "cell_type": "code",
      "source": [
        "az.plot_trace(fourier_az, var_names=['a','phi','w'],combined=True)"
      ],
      "metadata": {
        "id": "jzrttYGMf_uT"
      },
      "execution_count": null,
      "outputs": []
    },
    {
      "cell_type": "code",
      "source": [
        "az.plot_trace(fourier_az, var_names=['alpha', 'beta'],combined=True)"
      ],
      "metadata": {
        "id": "fcTLYzE9f-vX"
      },
      "execution_count": null,
      "outputs": []
    },
    {
      "cell_type": "code",
      "execution_count": null,
      "metadata": {
        "id": "n2pIjvFhLBCu"
      },
      "outputs": [],
      "source": [
        "np.sum(fourier_az.sample_stats.diverging)"
      ]
    },
    {
      "cell_type": "markdown",
      "source": [
        "### Error measures and prediction"
      ],
      "metadata": {
        "id": "ysc7_8ZAgwBC"
      }
    },
    {
      "cell_type": "code",
      "source": [
        "waic_result = az.waic(fourier_az,var_name=\"log_lik\")\n",
        "print(waic_result)\n",
        "loo_result = az.loo(fourier_az,var_name=\"log_lik\")\n",
        "loo_result"
      ],
      "metadata": {
        "id": "W2VX3xrddk3s"
      },
      "execution_count": null,
      "outputs": []
    },
    {
      "cell_type": "code",
      "source": [
        "y_pred = fit.stan_variable(var=\"y_pred\")\n",
        "y_veri= pd.read_csv('y_veri.csv', sep = \";\")"
      ],
      "metadata": {
        "id": "SqABbk4dlQMW"
      },
      "execution_count": null,
      "outputs": []
    },
    {
      "cell_type": "code",
      "source": [
        "y_veri = np.matrix(y_veri, dtype=float)"
      ],
      "metadata": {
        "id": "NvO_meqWv-c5"
      },
      "execution_count": null,
      "outputs": []
    },
    {
      "cell_type": "code",
      "source": [
        "Q1=np.zeros(365)\n",
        "Q2=np.zeros(365)\n",
        "Q3=np.zeros(365)\n",
        "for i in range(365):\n",
        "  Q1[i]= np.quantile(y_pred[:,i,1], 0.025)\n",
        "  Q2[i]= np.quantile(y_pred[:,i,1], 0.5)\n",
        "  Q3[i]= np.quantile(y_pred[:,i,1], 0.975)"
      ],
      "metadata": {
        "id": "QO9nHQ2wsPkH"
      },
      "execution_count": null,
      "outputs": []
    },
    {
      "cell_type": "code",
      "source": [
        "plt.plot(Q1,color='lightblue')\n",
        "plt.plot(Q2,color='royalblue')\n",
        "plt.plot(Q3,color='lightblue')\n",
        "plt.plot(y_veri[:,1],color='forestgreen')\n",
        "plt.fill_between(np.arange(0,365),Q1,Q3,color='lightcyan')"
      ],
      "metadata": {
        "id": "q05YfCd0vknb"
      },
      "execution_count": null,
      "outputs": []
    },
    {
      "cell_type": "code",
      "source": [
        "plt.plot(np.exp(Q1),color='lightblue')\n",
        "plt.plot(np.exp(Q2),color='royalblue')\n",
        "plt.plot(np.exp(Q3),color='lightblue')\n",
        "plt.plot(np.exp(y_veri[:,1]),color='forestgreen')\n",
        "plt.fill_between(np.arange(0,365),np.exp(Q1),np.exp(Q3),color='lightcyan')"
      ],
      "metadata": {
        "id": "_EUWKtFjy0R-"
      },
      "execution_count": null,
      "outputs": []
    },
    {
      "cell_type": "code",
      "source": [
        "sum=0\n",
        "for j in range(62):\n",
        "  for i in np.arange(355,365):\n",
        "    sum+= abs(y_veri[i,j] - np.quantile(y_pred[:,i,j], 0.5))\n",
        "sum/(62*10)"
      ],
      "metadata": {
        "id": "byE4qvvfyyIS"
      },
      "execution_count": null,
      "outputs": []
    },
    {
      "cell_type": "code",
      "source": [
        "sum=0\n",
        "for j in range(62):\n",
        "  for i in np.arange(355,365):\n",
        "    sum+= abs(y_veri[i,j] - np.mean(y_pred[:,i,j])) / y_veri[i,j]\n",
        "sum"
      ],
      "metadata": {
        "id": "99-Hw8Ks0j5c"
      },
      "execution_count": null,
      "outputs": []
    },
    {
      "cell_type": "code",
      "source": [
        "sum=0\n",
        "for j in range(62):\n",
        "  for i in np.arange(355,365):\n",
        "    sum+= y_veri[i,j] < np.quantile(y_pred[:,i,j], 0.975) and y_veri[i,j] > np.quantile(y_pred[:,i,j], 0.025)\n",
        "sum"
      ],
      "metadata": {
        "id": "jLC7Fap_0Lft"
      },
      "execution_count": null,
      "outputs": []
    }
  ],
  "metadata": {
    "colab": {
      "provenance": []
    },
    "kernelspec": {
      "display_name": "Python 3",
      "name": "python3"
    },
    "language_info": {
      "name": "python"
    }
  },
  "nbformat": 4,
  "nbformat_minor": 0
}