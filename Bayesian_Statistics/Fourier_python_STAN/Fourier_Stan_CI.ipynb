{
  "cells": [
    {
      "cell_type": "code",
      "execution_count": null,
      "metadata": {
        "colab": {
          "base_uri": "https://localhost:8080/"
        },
        "id": "5z8NM8IH1utG",
        "outputId": "692ffa58-bab1-4c07-9f3b-01ef6f145f12"
      },
      "outputs": [
        {
          "output_type": "stream",
          "name": "stdout",
          "text": [
            "Mounted at /gdrive\n"
          ]
        }
      ],
      "source": [
        "from google.colab import drive\n",
        "drive.mount ('/gdrive')"
      ]
    },
    {
      "cell_type": "code",
      "execution_count": null,
      "metadata": {
        "colab": {
          "base_uri": "https://localhost:8080/"
        },
        "id": "7FNiBF0X1xoJ",
        "outputId": "e18a54a7-d31e-4ea2-a532-98c5c4f3a03b"
      },
      "outputs": [
        {
          "output_type": "stream",
          "name": "stdout",
          "text": [
            "/gdrive/My Drive/Colab Notebooks/Bayesiana\n"
          ]
        }
      ],
      "source": [
        "%cd #add path to gdrive"
      ]
    },
    {
      "cell_type": "code",
      "execution_count": null,
      "metadata": {
        "id": "wCr71ddIaMuA"
      },
      "outputs": [],
      "source": [
        "import pandas as pd\n",
        "import numpy as np\n",
        "import stan\n",
        "import matplotlib.pyplot as plt\n",
        "import seaborn as sns\n",
        "from tensorflow_probability.substrates import numpy as tfp\n",
        "tfd = tfp.distributions"
      ]
    },
    {
      "cell_type": "code",
      "execution_count": null,
      "metadata": {
        "id": "E6ew-kfReV8a"
      },
      "outputs": [],
      "source": [
        "from cmdstanpy import CmdStanModel, set_cmdstan_path, cmdstan_path\n",
        "import arviz as az\n",
        "import os"
      ]
    },
    {
      "cell_type": "code",
      "execution_count": null,
      "metadata": {
        "id": "f3G1V9iXed8H"
      },
      "outputs": [],
      "source": [
        "import cmdstanpy\n",
        "cmdstanpy.install_cmdstan()"
      ]
    },
    {
      "cell_type": "code",
      "execution_count": null,
      "metadata": {
        "id": "fqpUJigvfSFT"
      },
      "outputs": [],
      "source": [
        "cmdstan_path()"
      ]
    },
    {
      "cell_type": "code",
      "execution_count": null,
      "metadata": {
        "id": "GcXN90Juc9P-"
      },
      "outputs": [],
      "source": [
        "nugget = pd.read_csv('nugget_to_python.csv', sep = \";\")\n",
        "data_vec = pd.read_csv('dat_complete_log_to_python.csv', sep = ';') #log PM10 values\n",
        "ind_miss = pd.read_csv('ind_miss_to_python.csv', sep = ';')\n",
        "ind_pres = pd.read_csv('ind_pres_to_python.csv', sep = ';')\n",
        "dati_covariates = pd.read_csv('covariates.csv', sep = \";\")"
      ]
    },
    {
      "cell_type": "code",
      "execution_count": null,
      "metadata": {
        "id": "y80EnNJnekiZ"
      },
      "outputs": [],
      "source": [
        "nugget_mat = np.matrix(nugget, dtype=float)\n",
        "\n",
        "data_vettore = np.array(data_vec, dtype=float)\n",
        "ind_miss = np.array(ind_miss)\n",
        "ind_pres = np.array(ind_pres)\n",
        "\n",
        "matrix_dati_covariates=np.matrix(dati_covariates)\n",
        "quota= np.array (matrix_dati_covariates[0,:], dtype=int)\n",
        "quota_norm = ((quota-quota.mean())/quota.std())\n",
        "\n",
        "area_dummies = pd.get_dummies(dati_covariates.iloc[1, :])\n",
        "\n",
        "zona_dummies = pd.get_dummies(dati_covariates.iloc[2, :])\n",
        "all_cov = np.matrix(pd.concat([area_dummies.Urbano, area_dummies.Suburbano, \n",
        "                               zona_dummies.Industriale, zona_dummies.Traffico],axis=1),dtype=bool)\n",
        "all_cov = np.concatenate((np.transpose(quota_norm),all_cov),axis=1)"
      ]
    },
    {
      "cell_type": "markdown",
      "source": [
        "### STAN model"
      ],
      "metadata": {
        "id": "jovktXDMfsE9"
      }
    },
    {
      "cell_type": "code",
      "execution_count": null,
      "metadata": {
        "id": "nywlA2YLmYnh"
      },
      "outputs": [],
      "source": [
        "fourier_model = \"\"\"\n",
        "\n",
        "data {\n",
        "  int<lower=0> num_giorni;  //number of obs\n",
        "  int<lower=0> num_stazioni;  //number of stations\n",
        "  int<lower=0> d;  //length of vector of basis\n",
        "  vector[d] vec_k;  //vector of basis\n",
        "  vector[num_giorni] t;  //time instant\n",
        "  matrix[num_stazioni,num_stazioni] dist_w;  //distance matrix\n",
        "  int Ncomp; // Number of non-missing values\n",
        "  int  Nmiss; // Number of missing values\n",
        "  int ind_pres[Ncomp, 2];\n",
        "  int ind_miss[Nmiss, 2];\n",
        "  vector[Ncomp] dat_complete;\n",
        "  matrix[num_stazioni, 5] covariates;\n",
        "}\n",
        "\n",
        "\n",
        "parameters {\n",
        "  real<lower=0> sigma;\n",
        "  vector[d] alpha;\n",
        "  vector[d] beta;\n",
        "  real<lower=0> a;\n",
        "  real<lower=0> phi;\n",
        "  vector[num_stazioni] w;\n",
        "  vector [Nmiss] dat_miss;\n",
        "  real beta_0;\n",
        "  vector[5] beta_cov;\n",
        "}\n",
        "\n",
        "\n",
        "transformed parameters {\n",
        "  real omega = 2*pi()/365;\n",
        "  vector[num_giorni] fourier;\n",
        "  matrix[num_giorni,num_stazioni] mu;\n",
        "  matrix[num_stazioni,num_stazioni] cov_w;\n",
        "  fourier = rep_vector(0,num_giorni);\n",
        "  matrix [num_giorni,num_stazioni] y;\n",
        "\n",
        "\n",
        "  for (i in 1:Ncomp) {\n",
        "    y[ind_pres[i,1], ind_pres[i,2]] =  dat_complete[i];\n",
        "  }\n",
        "  for(i in 1:Nmiss) {\n",
        "      y[ind_miss[i,1],ind_miss[i,2]] = dat_miss[i];\n",
        "    }\n",
        "\n",
        "\n",
        "  for (i in 1:d){\n",
        "    fourier += alpha[i]*sin(vec_k[i]*omega*t) + beta[i]*cos(vec_k[i]*omega*t);\n",
        "  }\n",
        "  \n",
        "\n",
        "  cov_w = a*exp(-phi*dist_w);\n",
        "  \n",
        "\n",
        "  for (j in 1:num_stazioni){\n",
        "      mu[:,j] = beta_0 + covariates[j,:]*beta_cov + fourier + w[j];\n",
        "    }\n",
        "}\n",
        "\n",
        "\n",
        "model {\n",
        "  sigma ~ inv_gamma(3,2);\n",
        "\n",
        "  alpha ~ normal(rep_vector(0,d),1);\n",
        "  beta ~ normal(rep_vector(0,d),1);\n",
        "\n",
        "  a ~ inv_gamma(3,2);\n",
        "  phi ~ beta(7,70);\n",
        "\n",
        "  beta_0 ~ normal(0, 2);\n",
        "  beta_cov ~ normal(rep_vector(0,5), 2);\n",
        "\n",
        "  w ~ multi_normal(rep_vector(0,num_stazioni),cov_w);\n",
        "  \n",
        "  for (j in 1:num_stazioni)\n",
        "    y[:,j] ~ normal(mu[:,j], sqrt(sigma));\n",
        "}\n",
        "\n",
        "\n",
        "generated quantities {\n",
        "  vector[num_giorni*num_stazioni] log_lik;\n",
        "  {\n",
        "    matrix [num_giorni, num_stazioni] temp; \n",
        "    for (i in 1:365) {\n",
        "      for (j in 1:num_stazioni) {\n",
        "      temp[i,j]= normal_lpdf(y[i,j] | mu[i,j], sqrt(sigma));\n",
        "      }\n",
        "    }\n",
        "    log_lik = to_vector(temp);\n",
        "  }\n",
        "  \n",
        "}\n",
        "\n",
        "\"\"\"\n",
        "\n",
        "stan_file = \"./fourier.stan\"\n",
        "\n",
        "with open(stan_file, \"w\") as f:\n",
        "    print(fourier_model, file=f)\n",
        "\n",
        "fourier = CmdStanModel(stan_file=stan_file)"
      ]
    },
    {
      "cell_type": "code",
      "execution_count": null,
      "metadata": {
        "id": "H87Dxxe4sUgN"
      },
      "outputs": [],
      "source": [
        "reg_data = {\n",
        "    \"num_giorni\": 365,\n",
        "    \"num_stazioni\": 62,\n",
        "    \"d\": 2,\n",
        "    \"vec_k\": [1,2],\n",
        "    \"t\": np.arange(1,366),\n",
        "    \"dist_w\": nugget_mat,\n",
        "    \"Ncomp\": np.shape(ind_pres)[0],\n",
        "    \"Nmiss\": np.shape(ind_miss)[0],\n",
        "    \"ind_pres\": ind_pres,\n",
        "    \"ind_miss\": ind_miss,\n",
        "    \"dat_complete\": data_vettore[:,0],\n",
        "    \"covariates\": all_cov\n",
        "}\n",
        "\n",
        "fit = fourier.sample(data=reg_data, chains=4, parallel_chains=4, \n",
        "                iter_warmup=1000, iter_sampling=1000)\n",
        "fourier_az = az.from_cmdstanpy(fit)"
      ]
    },
    {
      "cell_type": "code",
      "execution_count": null,
      "metadata": {
        "id": "CRCbAM_n2atm"
      },
      "outputs": [],
      "source": [
        "az.plot_trace(fourier_az, var_names=['beta_cov','beta_0','sigma','a','phi','w','alpha', 'beta'], combined=True)"
      ]
    },
    {
      "cell_type": "code",
      "execution_count": null,
      "metadata": {
        "id": "n2pIjvFhLBCu"
      },
      "outputs": [],
      "source": [
        "np.sum(fourier_az.sample_stats.diverging)"
      ]
    },
    {
      "cell_type": "markdown",
      "source": [
        "### Confidence intervals"
      ],
      "metadata": {
        "id": "Nkk8TC31fi9M"
      }
    },
    {
      "cell_type": "code",
      "source": [
        "beta_0 = (fit.stan_variable(var=\"beta_0\")).tolist()\n",
        "\n",
        "beta_cov = fit.stan_variable(var=\"beta_cov\")\n",
        "beta_1= (beta_cov[:,0]).tolist()\n",
        "beta_2= (beta_cov[:,1]).tolist()\n",
        "beta_3= (beta_cov[:,2]).tolist()\n",
        "beta_4= (beta_cov[:,3]).tolist()\n",
        "beta_5= (beta_cov[:,4]).tolist()\n",
        "\n",
        "alpha = (fit.stan_variable(var=\"alpha\"))\n",
        "b = (fit.stan_variable(var=\"beta\"))\n",
        "alpha_1= (alpha[:,0]).tolist()\n",
        "alpha_2= (alpha[:,1]).tolist()\n",
        "b_1= (b[:,0]).tolist()\n",
        "b_2= (b[:,1]).tolist()\n",
        "\n",
        "sigma = (fit.stan_variable(var=\"sigma\")).tolist()\n",
        "\n",
        "a = (fit.stan_variable(var=\"a\")).tolist()\n",
        "phi = (fit.stan_variable(var=\"phi\")).tolist()"
      ],
      "metadata": {
        "id": "Ko9Q7xnZOzYy"
      },
      "execution_count": null,
      "outputs": []
    },
    {
      "cell_type": "code",
      "source": [
        "import matplotlib.pyplot as plt\n",
        "import statistics\n",
        "from math import sqrt\n",
        "\n",
        "\n",
        "def plot_confidence_interval(x, values, color='#2187bb', horizontal_line_width=0.25):\n",
        "    mean_data = statistics.mean(values)\n",
        "    stdev_data = statistics.stdev(values)\n",
        "    median_data = statistics.median(values)\n",
        "\n",
        "    left = x - horizontal_line_width / 2\n",
        "    bottom = np.quantile(values, 0.025)\n",
        "    right = x + horizontal_line_width / 2\n",
        "    top = np.quantile(values, 0.975)\n",
        "    \n",
        "    confidence_interval = [bottom, top]\n",
        "    plt.plot([x, x], [top, bottom], color=color)\n",
        "    plt.plot([left, right], [top, top], color=color)\n",
        "    plt.plot([left, right], [bottom, bottom], color=color)\n",
        "    plt.plot(x, median_data, 'o', color='#f44336')\n",
        "\n",
        "    return mean_data, median_data, confidence_interval"
      ],
      "metadata": {
        "id": "lbqJi0XTO1h7"
      },
      "execution_count": null,
      "outputs": []
    },
    {
      "cell_type": "code",
      "source": [
        "#all\n",
        "plt.figure(figsize=(12, 6))\n",
        "plt.xticks([1, 2, 3, 4, 5, 6, 7, 8, 9, 10, 11, 12, 13], \n",
        "           ['beta0', 'beta1', 'beta2', 'beta3', 'beta4', 'beta5', 'a1', 'a2', 'b1', 'b2', 'sigma', 'alpha', 'phi'])\n",
        "plt.title('Confidence Interval')\n",
        "plt.axhline(y=0, color= 'black', linestyle = '--')\n",
        "\n",
        "plot_confidence_interval(1, beta_0)\n",
        "plot_confidence_interval(2, beta_1)\n",
        "plot_confidence_interval(3, beta_2)\n",
        "plot_confidence_interval(4, beta_3)\n",
        "plot_confidence_interval(5, beta_4)\n",
        "plot_confidence_interval(6, beta_5)\n",
        "plot_confidence_interval(7, alpha_1)\n",
        "plot_confidence_interval(8, alpha_2)\n",
        "plot_confidence_interval(9, b_1)\n",
        "plot_confidence_interval(10, b_2)\n",
        "plot_confidence_interval(11, sigma)\n",
        "plot_confidence_interval(12, a)\n",
        "plot_confidence_interval(13, phi)\n",
        "\n",
        "plt.show()"
      ],
      "metadata": {
        "id": "UbfNaFGmPtUs"
      },
      "execution_count": null,
      "outputs": []
    },
    {
      "cell_type": "code",
      "source": [
        "plt.figure(figsize=(12, 6))\n",
        "plt.xticks([1, 2, 3, 4, 5], ['beta1', 'beta2', 'beta3', 'beta4', 'beta5'])\n",
        "plt.title('Confidence Interval')\n",
        "plt.axhline(y=0, color= 'black', linestyle = '--')\n",
        "plot_confidence_interval(1, beta_1) \n",
        "plot_confidence_interval(2, beta_2)\n",
        "plot_confidence_interval(3, beta_3)\n",
        "plot_confidence_interval(4, beta_4)\n",
        "plot_confidence_interval(5, beta_5)\n",
        "\n",
        "plt.show()"
      ],
      "metadata": {
        "id": "YnvLjqM_O1sK"
      },
      "execution_count": null,
      "outputs": []
    },
    {
      "cell_type": "code",
      "source": [
        "plt.figure(figsize=(12, 6))\n",
        "plt.xticks([1, 2, 3, 4], ['a1', 'a2', 'b1', 'b2'])\n",
        "plt.title('Confidence Interval')\n",
        "plt.axhline(y=0, color= 'black', linestyle = '--')\n",
        "plot_confidence_interval(1, alpha_1) \n",
        "plot_confidence_interval(2, alpha_2)\n",
        "plot_confidence_interval(3, b_1)\n",
        "plot_confidence_interval(4, b_2)\n",
        "\n",
        "plt.show()"
      ],
      "metadata": {
        "id": "h25Z5SRCaohF"
      },
      "execution_count": null,
      "outputs": []
    },
    {
      "cell_type": "code",
      "source": [
        "plt.figure(figsize=(8, 6))\n",
        "plt.xticks([1, 2], ['alpha', 'phi'])\n",
        "plt.title('Confidence Interval')\n",
        "plt.axhline(y=0, color= 'black', linestyle = '--')\n",
        "plot_confidence_interval(1, a) \n",
        "plot_confidence_interval(2, phi)\n",
        "\n",
        "plt.show()"
      ],
      "metadata": {
        "id": "rVNQuUYjbNYC"
      },
      "execution_count": null,
      "outputs": []
    }
  ],
  "metadata": {
    "colab": {
      "provenance": []
    },
    "kernelspec": {
      "display_name": "Python 3",
      "name": "python3"
    },
    "language_info": {
      "name": "python"
    }
  },
  "nbformat": 4,
  "nbformat_minor": 0
}